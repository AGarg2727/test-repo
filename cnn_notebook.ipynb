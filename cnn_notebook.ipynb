{
 "cells": [
  {
   "cell_type": "code",
   "execution_count": 13,
   "metadata": {},
   "outputs": [],
   "source": [
    "import torch\n",
    "import torch.nn as nn\n",
    "import torch.optim as optim\n",
    "from torchvision import datasets, transforms\n",
    "from torch.utils.data import DataLoader\n",
    "import matplotlib.pyplot as plt\n",
    "from torch.utils.data.dataset import random_split"
   ]
  },
  {
   "cell_type": "code",
   "execution_count": 14,
   "metadata": {},
   "outputs": [],
   "source": [
    "\n",
    "# Define the CNN Architecture\n",
    "class CNN(nn.Module):\n",
    "    def __init__(self):\n",
    "        super(CNN, self).__init__()\n",
    "        self.conv1 = nn.Conv2d(1, 32, kernel_size=5, stride=1, padding=2)\n",
    "        self.conv2 = nn.Conv2d(32, 64, kernel_size=5, stride=1, padding=2)\n",
    "        self.fc1 = nn.Linear(7*7*64, 1024)\n",
    "        self.fc2 = nn.Linear(1024, 10)\n",
    "        self.pool = nn.MaxPool2d(2, 2)\n",
    "        self.relu = nn.ReLU()\n",
    "        self.dropout = nn.Dropout(0.3)\n",
    "\n",
    "    def forward(self, x):\n",
    "        x = self.pool(self.relu(self.conv1(x)))\n",
    "        x = self.dropout(x)\n",
    "        x = self.pool(self.relu(self.conv2(x)))\n",
    "        x = self.dropout(x)\n",
    "        x = x.view(-1, 7*7*64)\n",
    "        x = self.relu(self.fc1(x))\n",
    "        x = self.dropout(x)\n",
    "        x = self.fc2(x)\n",
    "        return x"
   ]
  },
  {
   "cell_type": "code",
   "execution_count": 18,
   "metadata": {},
   "outputs": [],
   "source": [
    "# Load the Data\n",
    "transform = transforms.Compose([\n",
    "    transforms.ToTensor(),\n",
    "    transforms.Normalize((0.5,), (0.5,))\n",
    "])\n",
    "\n",
    "train_dataset = datasets.MNIST(root='./data', train=True, download=True, transform=transform)\n",
    "test_dataset = datasets.MNIST(root='./data', train=False, download=True, transform=transform)\n",
    "\n",
    "# Assuming train_dataset is already defined and loaded\n",
    "num_train = int(len(train_dataset) * 0.8)  # 80% for training\n",
    "num_val = len(train_dataset) - num_train   # 20% for validation\n",
    "\n",
    "train_data, val_data = random_split(train_dataset, [num_train, num_val])\n",
    "\n",
    "train_loader = DataLoader(dataset=train_data, batch_size=32, shuffle=True)\n",
    "val_loader = DataLoader(dataset=val_data, batch_size=32, shuffle=False)\n",
    "test_loader = DataLoader(dataset=test_dataset, batch_size=32, shuffle=False)\n",
    "\n",
    "# Set Up the Training Environment\n",
    "device = torch.device(\"cuda\" if torch.cuda.is_available() else \"cpu\")\n",
    "model = CNN().to(device)\n",
    "criterion = nn.CrossEntropyLoss()\n",
    "optimizer = optim.Adam(model.parameters(), lr=0.001, weight_decay=0.0001)"
   ]
  },
  {
   "cell_type": "code",
   "execution_count": 32,
   "metadata": {},
   "outputs": [
    {
     "name": "stdout",
     "output_type": "stream",
     "text": [
      "Batch 500, Epoch 1, Validation Loss: 0.0345\n",
      "Validation loss decreased, saving model...\n",
      "Batch 1000, Epoch 1, Validation Loss: 0.0243\n",
      "Validation loss decreased, saving model...\n",
      "Batch 1500, Epoch 1, Validation Loss: 0.0247\n",
      "Validation loss did not improve. Patience: 1/5\n",
      "Batch 2000, Epoch 2, Validation Loss: 0.0239\n",
      "Validation loss decreased, saving model...\n",
      "Batch 2500, Epoch 2, Validation Loss: 0.0281\n",
      "Validation loss did not improve. Patience: 1/5\n",
      "Batch 3000, Epoch 2, Validation Loss: 0.0273\n",
      "Validation loss did not improve. Patience: 2/5\n",
      "Batch 3500, Epoch 3, Validation Loss: 0.0283\n",
      "Validation loss did not improve. Patience: 3/5\n",
      "Batch 4000, Epoch 3, Validation Loss: 0.0304\n",
      "Validation loss did not improve. Patience: 4/5\n",
      "Batch 4500, Epoch 3, Validation Loss: 0.0268\n",
      "Validation loss did not improve. Patience: 5/5\n",
      "Early stopping triggered due to no improvement in validation loss.\n"
     ]
    }
   ],
   "source": [
    "def train_with_periodic_validation_and_patience(model, device, train_loader, val_loader, optimizer, criterion, epochs, validation_interval=100, patience=10):\n",
    "    model.train()\n",
    "    best_val_loss = float('inf')\n",
    "    batch_counter = 0\n",
    "    patience_counter = 0  # Initialize patience counter\n",
    "\n",
    "    for epoch in range(epochs):\n",
    "        for data, target in train_loader:\n",
    "            data, target = data.to(device), target.to(device)\n",
    "            optimizer.zero_grad()\n",
    "            output = model(data)\n",
    "            loss = criterion(output, target)\n",
    "            loss.backward()\n",
    "            optimizer.step()\n",
    "\n",
    "            # Increment batch counter\n",
    "            batch_counter += 1\n",
    "\n",
    "            # Check validation every 'validation_interval' batches\n",
    "            if batch_counter % validation_interval == 0:\n",
    "                model.eval()\n",
    "                val_loss = 0\n",
    "                with torch.no_grad():\n",
    "                    for val_data, val_target in val_loader:\n",
    "                        val_data, val_target = val_data.to(device), val_target.to(device)\n",
    "                        val_output = model(val_data)\n",
    "                        val_batch_loss = criterion(val_output, val_target)\n",
    "                        val_loss += val_batch_loss.item()\n",
    "\n",
    "                val_loss /= len(val_loader)\n",
    "                print(f'Batch {batch_counter}, Epoch {epoch+1}, Validation Loss: {val_loss:.4f}')\n",
    "\n",
    "                # Early stopping logic based on validation loss improvement\n",
    "                if val_loss < best_val_loss:\n",
    "                    best_val_loss = val_loss\n",
    "                    patience_counter = 0  # Reset patience counter on improvement\n",
    "                    print(\"Validation loss decreased, saving model...\")\n",
    "                    torch.save(model.state_dict(), 'best_model.pth')\n",
    "                else:\n",
    "                    patience_counter += 1\n",
    "                    print(f\"Validation loss did not improve. Patience: {patience_counter}/{patience}\")\n",
    "                    if patience_counter >= patience:\n",
    "                        print(\"Early stopping triggered due to no improvement in validation loss.\")\n",
    "                        return  # Stop training\n",
    "                model.train()  # Switch back to training mode\n",
    "\n",
    "train_with_periodic_validation_and_patience(model, device, train_loader, val_loader, optimizer, criterion, epochs=10, validation_interval=500, patience=5)\n"
   ]
  },
  {
   "cell_type": "code",
   "execution_count": 34,
   "metadata": {},
   "outputs": [
    {
     "name": "stdout",
     "output_type": "stream",
     "text": [
      "Test Loss: 0.0007136491184335682\n",
      "Accuracy: 99.36 %\n"
     ]
    },
    {
     "data": {
      "image/png": "[encoded data removed]",
      "text/plain": [
       "<Figure size 1440x144 with 20 Axes>"
      ]
     },
     "metadata": {
      "needs_background": "light"
     },
     "output_type": "display_data"
    }
   ],
   "source": [
    "def evaluate_and_show_misclassifications(model, device, test_loader, num_images=5):\n",
    "    model.eval()\n",
    "    test_loss = 0\n",
    "    correct = 0\n",
    "    misclassified_images = []\n",
    "    misclassified_labels = []\n",
    "    misclassified_predictions = []\n",
    "    \n",
    "    with torch.no_grad():\n",
    "        for data, target in test_loader:\n",
    "            data, target = data.to(device), target.to(device)\n",
    "            output = model(data)\n",
    "            test_loss += criterion(output, target).item()\n",
    "            pred = output.argmax(dim=1, keepdim=True)\n",
    "            correct += pred.eq(target.view_as(pred)).sum().item()\n",
    "            \n",
    "            # Collect misclassified images\n",
    "            misclassified = pred.eq(target.view_as(pred)) == False\n",
    "            if len(misclassified_images) < num_images and misclassified.any():\n",
    "                misclassified_indices = misclassified.nonzero()[:, 0]\n",
    "                for idx in misclassified_indices:\n",
    "                    if len(misclassified_images) < num_images:\n",
    "                        misclassified_images.append(data[idx].cpu())\n",
    "                        misclassified_labels.append(target[idx].cpu().item())\n",
    "                        misclassified_predictions.append(pred[idx].cpu().item())\n",
    "                    else:\n",
    "                        break\n",
    "\n",
    "    test_loss /= len(test_loader.dataset)\n",
    "    print(f'Test Loss: {test_loss}')\n",
    "    print(f'Accuracy: {100. * correct / len(test_loader.dataset)} %')\n",
    "\n",
    "    # Plotting misclassified images\n",
    "    fig, axes = plt.subplots(1, num_images, figsize=(20, 2))\n",
    "    for i, (img, true_label, pred_label) in enumerate(zip(misclassified_images, misclassified_labels, misclassified_predictions)):\n",
    "        img = img.squeeze().numpy()  # Squeeze to remove channel dimension and convert to numpy for plotting\n",
    "        ax = axes[i]\n",
    "        ax.imshow(img, cmap='gray')\n",
    "        ax.set_title(f'True: {true_label}\\nPred: {pred_label}')\n",
    "        ax.axis('off')\n",
    "    plt.show()\n",
    "\n",
    "evaluate_and_show_misclassifications(model, device, test_loader, num_images=20\n",
    "                            )"
   ]
  },
  {
   "cell_type": "code",
   "execution_count": null,
   "metadata": {},
   "outputs": [],
   "source": []
  }
 ],
 "metadata": {
  "kernelspec": {
   "display_name": "base",
   "language": "python",
   "name": "python3"
  },
  "language_info": {
   "codemirror_mode": {
    "name": "ipython",
    "version": 3
   },
   "file_extension": ".py",
   "mimetype": "text/x-python",
   "name": "python",
   "nbconvert_exporter": "python",
   "pygments_lexer": "ipython3",
   "version": "3.9.12"
  }
 },
 "nbformat": 4,
 "nbformat_minor": 2
}
